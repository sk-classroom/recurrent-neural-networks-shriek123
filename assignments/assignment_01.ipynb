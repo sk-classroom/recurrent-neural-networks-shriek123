{
 "cells": [
  {
   "cell_type": "markdown",
   "metadata": {},
   "source": [
    "[![Open In Colab](https://colab.research.google.com/assets/colab-badge.svg)](http://colab.research.google.com/github/sk-classroom/asc-recurrent-neural-nets/blob/main/assignments/assignment_01.ipynb)\n",
    "\n",
    "We will be creating a simple character-level Recurrent Neural Network (RNN) to classify city names into their respective countries.\n",
    "\n",
    "This character-level RNN will read a city name as a sequence of characters. We will use the data from [simplemap.com](https://simplemaps.com/data/world-cities). The data is preprocessed by extracting the some number of top countries and randomly sampling their respective cities. Then, the data is splitted into a train dataset and test dataset.  \n",
    "\n",
    "# Data\n"
   ]
  },
  {
   "cell_type": "code",
   "execution_count": 1,
   "metadata": {},
   "outputs": [
    {
     "data": {
      "text/html": [
       "<div>\n",
       "<style scoped>\n",
       "    .dataframe tbody tr th:only-of-type {\n",
       "        vertical-align: middle;\n",
       "    }\n",
       "\n",
       "    .dataframe tbody tr th {\n",
       "        vertical-align: top;\n",
       "    }\n",
       "\n",
       "    .dataframe thead th {\n",
       "        text-align: right;\n",
       "    }\n",
       "</style>\n",
       "<table border=\"1\" class=\"dataframe\">\n",
       "  <thead>\n",
       "    <tr style=\"text-align: right;\">\n",
       "      <th></th>\n",
       "      <th>city</th>\n",
       "      <th>country</th>\n",
       "    </tr>\n",
       "  </thead>\n",
       "  <tbody>\n",
       "    <tr>\n",
       "      <th>0</th>\n",
       "      <td>Shinhidaka</td>\n",
       "      <td>Japan</td>\n",
       "    </tr>\n",
       "    <tr>\n",
       "      <th>1</th>\n",
       "      <td>Gormi</td>\n",
       "      <td>India</td>\n",
       "    </tr>\n",
       "    <tr>\n",
       "      <th>2</th>\n",
       "      <td>Alleroy</td>\n",
       "      <td>Russia</td>\n",
       "    </tr>\n",
       "    <tr>\n",
       "      <th>3</th>\n",
       "      <td>Yelizovo</td>\n",
       "      <td>Russia</td>\n",
       "    </tr>\n",
       "    <tr>\n",
       "      <th>4</th>\n",
       "      <td>Sodegaura</td>\n",
       "      <td>Japan</td>\n",
       "    </tr>\n",
       "  </tbody>\n",
       "</table>\n",
       "</div>"
      ],
      "text/plain": [
       "         city country\n",
       "0  Shinhidaka   Japan\n",
       "1       Gormi   India\n",
       "2     Alleroy  Russia\n",
       "3    Yelizovo  Russia\n",
       "4   Sodegaura   Japan"
      ]
     },
     "execution_count": 1,
     "metadata": {},
     "output_type": "execute_result"
    }
   ],
   "source": [
    "import pandas as pd\n",
    "import numpy as np\n",
    "import json\n",
    "\n",
    "root = \"https://raw.githubusercontent.com/sk-classroom/asc-recurrent-neural-nets/main\"\n",
    "\n",
    "train_data = pd.read_csv(f\"{root}/data/train.csv\")\n",
    "train_data.head()"
   ]
  },
  {
   "cell_type": "code",
   "execution_count": 2,
   "metadata": {},
   "outputs": [],
   "source": [
    "train_input_data = train_data[\"city\"].values\n",
    "train_target_data = train_data[\"country\"].values"
   ]
  },
  {
   "cell_type": "markdown",
   "metadata": {},
   "source": [
    "Next, we will load a list of unique characters in the city names. \n"
   ]
  },
  {
   "cell_type": "code",
   "execution_count": 3,
   "metadata": {},
   "outputs": [
    {
     "name": "stdout",
     "output_type": "stream",
     "text": [
      "[' ', ' ', \"'\", '(', ')', '-', '.', '/', 'A', 'B', 'C', 'D', 'E', 'F', 'G', 'H', 'I', 'J', 'K', 'L', 'M', 'N', 'O', 'P', 'Q', 'R', 'S', 'T', 'U', 'V']\n"
     ]
    },
    {
     "data": {
      "text/plain": [
       "105"
      ]
     },
     "execution_count": 3,
     "metadata": {},
     "output_type": "execute_result"
    }
   ],
   "source": [
    "# load unique charss from unique_chars.json\n",
    "with open(\"../data/unique_chars.json\", \"r\") as f:\n",
    "    unique_chars = json.load(f)\n",
    "print(unique_chars[:30])\n",
    "len(unique_chars)"
   ]
  },
  {
   "cell_type": "markdown",
   "metadata": {},
   "source": [
    "# Convert the city names into Pytorch Tensors \n",
    "\n",
    "We will prepare some utility functions to convert the city names into PyTorch Tensors by using one-hot encoding. Our one-hot vector has a length of the number of unique characters, with a 1 at the index of the current character and 0 everywhere else.\n"
   ]
  },
  {
   "cell_type": "code",
   "execution_count": 4,
   "metadata": {},
   "outputs": [
    {
     "name": "stdout",
     "output_type": "stream",
     "text": [
      "tensor([[0., 0., 0., 0., 0., 0., 0., 0., 0., 1., 0., 0., 0., 0., 0., 0., 0., 0.,\n",
      "         0., 0., 0., 0., 0., 0., 0., 0., 0., 0., 0., 0., 0., 0., 0., 0., 0., 0.,\n",
      "         0., 0., 0., 0., 0., 0., 0., 0., 0., 0., 0., 0., 0., 0., 0., 0., 0., 0.,\n",
      "         0., 0., 0., 0., 0., 0., 0., 0., 0., 0., 0., 0., 0., 0., 0., 0., 0., 0.,\n",
      "         0., 0., 0., 0., 0., 0., 0., 0., 0., 0., 0., 0., 0., 0., 0., 0., 0., 0.,\n",
      "         0., 0., 0., 0., 0., 0., 0., 0., 0., 0., 0., 0., 0., 0., 0.]])\n",
      "tensor([[0., 0., 0.,  ..., 0., 0., 0.],\n",
      "        [0., 0., 0.,  ..., 0., 0., 0.],\n",
      "        [0., 0., 0.,  ..., 0., 0., 0.],\n",
      "        ...,\n",
      "        [0., 0., 0.,  ..., 0., 0., 0.],\n",
      "        [0., 0., 0.,  ..., 0., 0., 0.],\n",
      "        [0., 0., 0.,  ..., 0., 0., 0.]])\n"
     ]
    }
   ],
   "source": [
    "import torch\n",
    "\n",
    "n_letters = len(unique_chars)\n",
    "\n",
    "\n",
    "# Function to find the index of a letter without predefining all_letters\n",
    "def letterToIndex(letter):\n",
    "    return unique_chars.index(letter)\n",
    "\n",
    "\n",
    "# Function to convert a string into a Tensor of shape <line_length x 1 x n_letters>\n",
    "# Each character in the string is represented as a one-hot vector\n",
    "def lineToTensor(line):\n",
    "    tensor = torch.zeros(len(line), n_letters)\n",
    "    for li, letter in enumerate(line):\n",
    "        tensor[li][letterToIndex(letter)] = 1\n",
    "    return tensor\n",
    "\n",
    "\n",
    "# Demonstration of converting a letter and a string into Tensors\n",
    "print(lineToTensor(\"B\"))\n",
    "\n",
    "# Demonstration of converting a city name into a sequence of Tensors\n",
    "print(lineToTensor(\"Binghamton\"))"
   ]
  },
  {
   "cell_type": "markdown",
   "metadata": {},
   "source": [
    "Next, we will convert the country names into PyTorch Tensors. We will assign a unique integer to each country. \n"
   ]
  },
  {
   "cell_type": "code",
   "execution_count": 5,
   "metadata": {},
   "outputs": [
    {
     "data": {
      "text/plain": [
       "tensor([ 7,  5, 11,  ...,  5,  9,  8])"
      ]
     },
     "execution_count": 5,
     "metadata": {},
     "output_type": "execute_result"
    }
   ],
   "source": [
    "unique_countries = np.unique(train_target_data)\n",
    "country_to_index = {country: i for i, country in enumerate(unique_countries)}\n",
    "train_target = train_data[\"country\"].apply(lambda x: country_to_index[x]).values\n",
    "\n",
    "# Or alternatively\n",
    "# train_target = np.unonique(train_data[\"country\"], return_inverse=True)[1]\n",
    "\n",
    "train_target_data_tensor = torch.tensor(train_target)\n",
    "train_target_data_tensor"
   ]
  },
  {
   "cell_type": "markdown",
   "metadata": {},
   "source": [
    "# Create a Dataset and Data loader\n",
    "\n",
    "We will create a custom dataset that takes the city names and the country names as input and returns the city names and the country names as an integer tensor.\n",
    "\n",
    "Then, we will create a data loader with a batch size of 512. \n"
   ]
  },
  {
   "cell_type": "code",
   "execution_count": 6,
   "metadata": {},
   "outputs": [],
   "source": [
    "# TODO: Create a custom dataset class using torch.utils.data.Dataset\n",
    "class CityCountryDataset(torch.utils.data.Dataset):\n",
    "    def __init__(self, cities, countries):\n",
    "        self.cities = cities\n",
    "        self.countries = countries\n",
    "\n",
    "    def __len__(self):\n",
    "        \"\"\"Return the number of samples in the dataset\"\"\"\n",
    "        return len(self.cities)\n",
    "\n",
    "    def __getitem__(self, idx):\n",
    "        \"\"\"Return the sample with the given index idx\"\"\"\n",
    "        return self.cities[idx], self.countries[idx]\n",
    "\n",
    "\n",
    "# TODO: Create the CityCountryDataset object\n",
    "train_dataset = CityCountryDataset(train_input_data, train_target_data_tensor)\n",
    "\n",
    "# TODO:  Create a DataLoader from the dataset with batch_size=32~512\n",
    "train_dataloader = torch.utils.data.DataLoader(train_dataset, batch_size=512, shuffle=True,drop_last=True)\n",
    "\n"
   ]
  },
  {
   "cell_type": "markdown",
   "metadata": {},
   "source": [
    "# Define the RNNs\n",
    "\n",
    "Let's create a simple RNN with two linear layers.\n",
    "* The input and hidden states will be concatenated first. \n",
    "* One layer computes the next hidden state, and another layer computes the output. \n",
    "* Tanh function is applied to the hidden state.  \n",
    "* No non-linear activation function is applied to the output.\n"
   ]
  },
  {
   "cell_type": "code",
   "execution_count": 7,
   "metadata": {},
   "outputs": [],
   "source": [
    "# TODO: Implement the RNN class\n",
    "class RNN(torch.nn.Module):\n",
    "    def __init__(self, input_size, hidden_size, output_size):\n",
    "        super(RNN, self).__init__()\n",
    "        \"\"\"Initialize the RNN with the given input, hidden, and output size\"\"\"\n",
    "        self.input_size = input_size\n",
    "        self.hidden_size = hidden_size\n",
    "        self.output_size = output_size\n",
    "        self.lin_i2o = torch.nn.Linear(input_size + hidden_size, output_size)\n",
    "        self.lin_i2h = torch.nn.Linear(input_size + hidden_size, hidden_size)\n",
    "        self.tanh = torch.nn.Tanh()\n",
    "\n",
    "    def forward(self, input, hidden):\n",
    "        \"\"\"Forward pass of the RNN\"\"\"\n",
    "        # input = input.unsqueeze(0)  # Adds an extra dimension, making a 1D tensor 2D\n",
    "        combined = torch.cat((input, hidden))\n",
    "        output = self.lin_i2o(combined)\n",
    "        hidden = self.lin_i2h(combined)\n",
    "        hidden = self.tanh(hidden)\n",
    "        return output, hidden\n",
    "        \n",
    "\n",
    "    def initHidden(self):\n",
    "        \"\"\"Return a tensor of shape <1 x hidden_size> filled with zeros\"\"\"\n",
    "        return torch.zeros(self.hidden_size)\n",
    "\n",
    "\n",
    "# TODO: Define the RNN model with hidden size 128\n",
    "rnn = RNN(n_letters, 64, len(unique_countries))\n"
   ]
  },
  {
   "cell_type": "markdown",
   "metadata": {},
   "source": [
    "Given a city name, we need to run the RNN on each character of the city name. Then, we will take the output of the RNN for the last character as the final output.  \n",
    "\n",
    "Let's prepare a utility function to predict the country from the city name. \n"
   ]
  },
  {
   "cell_type": "code",
   "execution_count": 8,
   "metadata": {},
   "outputs": [],
   "source": [
    "# TODO: Run the RNN on the city name\n",
    "def run_rnn(city_name, rnn):\n",
    "    \"\"\"Run the RNN on the given city name\n",
    "\n",
    "    input:\n",
    "    city_name: str\n",
    "    rnn: RNN\n",
    "\n",
    "    output:\n",
    "    output: Tensor of shape <1 x n_countries>\n",
    "    \"\"\"\n",
    "\n",
    "    # HINT: Initialize the hidden state\n",
    "    hidden = rnn.initHidden()\n",
    "\n",
    "    # HINT Convert the city name into a Tensor\n",
    "    city_name_tensor = lineToTensor(city_name)\n",
    "\n",
    "    # HINT Run the RNN on the input tensor\n",
    "    for char_tensor in city_name_tensor:\n",
    "        output, hidden = rnn(char_tensor, hidden)\n",
    "\n",
    "    return output\n",
    "\n",
    "\n"
   ]
  },
  {
   "cell_type": "markdown",
   "metadata": {},
   "source": [
    "# Let's train!\n",
    "\n",
    "## Preparation for the training\n"
   ]
  },
  {
   "cell_type": "markdown",
   "metadata": {},
   "source": [
    "We will use the `CrossEntropyLoss` as the loss function. This loss function is useful to train a model for multiclass classification. ([link](https://pytorch.org/docs/stable/generated/torch.nn.CrossEntropyLoss.html))\n"
   ]
  },
  {
   "cell_type": "code",
   "execution_count": 9,
   "metadata": {},
   "outputs": [],
   "source": [
    "criterion = torch.nn.CrossEntropyLoss()  # TODO: Define the loss function"
   ]
  },
  {
   "cell_type": "markdown",
   "metadata": {},
   "source": [
    "Optimizer\n"
   ]
  },
  {
   "cell_type": "code",
   "execution_count": 10,
   "metadata": {},
   "outputs": [],
   "source": [
    "optimizer = torch.optim.Adam(rnn.parameters(), lr=5e-3)  # TODO: Define the optimizer\n",
    "\n"
   ]
  },
  {
   "cell_type": "markdown",
   "metadata": {},
   "source": [
    "## Train\n"
   ]
  },
  {
   "cell_type": "code",
   "execution_count": 11,
   "metadata": {},
   "outputs": [
    {
     "name": "stderr",
     "output_type": "stream",
     "text": [
      "  0%|          | 0/31 [00:16<?, ?it/s, loss=2.22]\n",
      "  0%|          | 0/31 [00:16<?, ?it/s, loss=1.72]\n",
      "  0%|          | 0/31 [00:16<?, ?it/s, loss=1.52]\n"
     ]
    }
   ],
   "source": [
    "from tqdm import tqdm\n",
    "\n",
    "n_epochs = 4  # number of epochs\n",
    "loss_values = []  # to store the loss values at each step\n",
    "\n",
    "# Set the model to training mode\n",
    "rnn.train()\n",
    "\n",
    "# TODO: Train the model\n",
    "for epoch in range(n_epochs):\n",
    "\n",
    "    pbar= tqdm(train_dataloader)\n",
    "\n",
    "    for city_name_batch, country_index_batch in train_dataloader:\n",
    "        optimizer.zero_grad()\n",
    "        loss = 0\n",
    "\n",
    "        for name, target in zip(city_name_batch, country_index_batch):\n",
    "            output = run_rnn(name, rnn)\n",
    "            loss += criterion(output, target)\n",
    "\n",
    "        loss.backward()\n",
    "        optimizer.step()\n",
    "\n",
    "        average_loss = loss.item()/len(city_name_batch)\n",
    "        loss_values.append(average_loss)\n",
    "        \n",
    "        pbar.set_postfix({\"loss\": average_loss})\n"
   ]
  },
  {
   "cell_type": "code",
   "execution_count": 12,
   "metadata": {},
   "outputs": [
    {
     "data": {
      "text/plain": [
       "Text(0, 0.5, 'Loss')"
      ]
     },
     "execution_count": 12,
     "metadata": {},
     "output_type": "execute_result"
    },
    {
     "data": {
      "image/png": "[encoded data removed]",
      "text/plain": [
       "<Figure size 640x480 with 1 Axes>"
      ]
     },
     "metadata": {},
     "output_type": "display_data"
    }
   ],
   "source": [
    "# Plot the loss values\n",
    "import matplotlib.pyplot as plt\n",
    "\n",
    "plt.plot(loss_values)\n",
    "plt.xlabel(\"Batch\")\n",
    "plt.ylabel(\"Loss\")"
   ]
  },
  {
   "cell_type": "code",
   "execution_count": 13,
   "metadata": {},
   "outputs": [
    {
     "data": {
      "text/plain": [
       "'United States'"
      ]
     },
     "execution_count": 13,
     "metadata": {},
     "output_type": "execute_result"
    }
   ],
   "source": [
    "def predict_country(city_name, rnn):\n",
    "    output = run_rnn(city_name, rnn)\n",
    "    country_index = torch.argmax(output)\n",
    "    return unique_countries[country_index]\n",
    "\n",
    "\n",
    "city_name = \"New York\"\n",
    "predict_country(city_name, rnn)"
   ]
  },
  {
   "cell_type": "markdown",
   "metadata": {},
   "source": [
    "The prediction won't be perfect because the model is trained on a small dataset. However, the model should be better than random. Let's check.  \n"
   ]
  },
  {
   "cell_type": "code",
   "execution_count": 14,
   "metadata": {},
   "outputs": [
    {
     "name": "stdout",
     "output_type": "stream",
     "text": [
      "Accuracy: 0.53\n",
      "Random accuracy: 0.07\n"
     ]
    }
   ],
   "source": [
    "# Read the test data\n",
    "test_data = pd.read_csv(f\"{root}/data/test.csv\")\n",
    "test_data.head()\n",
    "\n",
    "# Make predictions\n",
    "predictions = [\n",
    "    predict_country(city_name, rnn) for city_name in test_data[\"city\"].values\n",
    "]\n",
    "\n",
    "# Compute the accuracy of the model\n",
    "accuracy = (predictions == test_data[\"country\"]).mean()\n",
    "\n",
    "# Compute the accuracy of the random model\n",
    "random_accuracy = 1 / len(unique_countries)\n",
    "\n",
    "print(f\"Accuracy: {accuracy:.2f}\")\n",
    "print(f\"Random accuracy: {random_accuracy:.2f}\")"
   ]
  },
  {
   "cell_type": "markdown",
   "metadata": {},
   "source": [
    "# Submit the results \n",
    "\n",
    "Please **git commit & push** the following two files created in the following cell. \n",
    "\n",
    "1. \"~/assignments/rnn_test_predictions.csv\" \n",
    "\n",
    "2. \"~/assignments/rnn_loss_values.csv\"\n"
   ]
  },
  {
   "cell_type": "code",
   "execution_count": 15,
   "metadata": {},
   "outputs": [],
   "source": [
    "pd.DataFrame(predictions).to_csv(\"./rnn_test_predictions.csv\", index=False)\n",
    "pd.DataFrame(loss_values).to_csv(\"./rnn_loss_values.csv\", index=False)"
   ]
  }
 ],
 "metadata": {
  "kernelspec": {
   "display_name": "applsoftcomp",
   "language": "python",
   "name": "python3"
  },
  "language_info": {
   "codemirror_mode": {
    "name": "ipython",
    "version": 3
   },
   "file_extension": ".py",
   "mimetype": "text/x-python",
   "name": "python",
   "nbconvert_exporter": "python",
   "pygments_lexer": "ipython3",
   "version": "3.10.13"
  }
 },
 "nbformat": 4,
 "nbformat_minor": 2
}
